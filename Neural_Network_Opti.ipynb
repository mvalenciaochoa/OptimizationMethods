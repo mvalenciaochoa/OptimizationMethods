{
  "nbformat": 4,
  "nbformat_minor": 0,
  "metadata": {
    "colab": {
      "provenance": [],
      "collapsed_sections": []
    },
    "kernelspec": {
      "name": "python3",
      "display_name": "Python 3"
    },
    "language_info": {
      "name": "python"
    }
  },
  "cells": [
    {
      "cell_type": "markdown",
      "metadata": {
        "id": "4tjvxmJutZPV"
      },
      "source": [
        "# Red Neuronal - Optimizacion II\n",
        "*Prof. Cristhian Zambrano*\n",
        "\n",
        "**Estudiantes:**  \\\\\n",
        "Camilo Oberndorfer, \\\\\n",
        "Maria Alejandra Moncada, \\\\\n",
        "Miguel Valencia, \\\\\n",
        "Pedro Botero\n",
        "\n"
      ]
    },
    {
      "cell_type": "code",
      "metadata": {
        "id": "91pmo3dHA-Dg"
      },
      "source": [
        "import numpy as np\n",
        "import pandas as pd\n",
        "from pandas_profiling import ProfileReport\n",
        "import matplotlib.pyplot as plt"
      ],
      "execution_count": null,
      "outputs": []
    },
    {
      "cell_type": "markdown",
      "metadata": {
        "id": "_YgiJZXgWG2q"
      },
      "source": [
        "# Neural network"
      ]
    },
    {
      "cell_type": "markdown",
      "metadata": {
        "id": "yzb6qsD1BYiJ"
      },
      "source": [
        "## Neuron Layer"
      ]
    },
    {
      "cell_type": "code",
      "metadata": {
        "id": "sazCsIIVzwuO"
      },
      "source": [
        "# Creando capas\n",
        "class Layer_Dense:\n",
        "  \n",
        "  # inicializando capas\n",
        "  def __init__(self, n_inputs, n_neurons):\n",
        "\n",
        "    # establecemos pesos y sesgos iniciales aleatorios\n",
        "    self.weights = 0.01 * np.random.randn(n_inputs, n_neurons)\n",
        "    self.biases = 0.01 * np.random.randn(1, n_neurons)\n",
        "    \n",
        "  # Paso hacia adelante\n",
        "  def forward(self, inputs):\n",
        "\n",
        "    # Guardamos los inputs para backward mas tarde\n",
        "    self.inputs = inputs\n",
        "    # Calculamos los outputs iniciales necesarios para cualquier funcion de activacion\n",
        "    self.output = np.dot(inputs, self.weights) + self.biases\n",
        "\n",
        "  # Paso hacia atras\n",
        "  def backward(self, dvalues):\n",
        "    # Hallamos el gradiente de pesos y sesgos\n",
        "    self.dweights = np.dot(self.inputs.T, dvalues)\n",
        "    self.dbiases = np.sum(dvalues, axis=0, keepdims=True)\n",
        "\n",
        "    # Hallamos el gradiente de los vaores de entrada\n",
        "    self.dinputs = np.dot(dvalues, self.weights.T)\n"
      ],
      "execution_count": null,
      "outputs": []
    },
    {
      "cell_type": "markdown",
      "metadata": {
        "id": "J33YZ74VBm7t"
      },
      "source": [
        "## Activation Functions"
      ]
    },
    {
      "cell_type": "code",
      "metadata": {
        "id": "EELeFqFzst8f"
      },
      "source": [
        "# Linear\n",
        "class Activation_Linear:\n",
        "  # Paso hacia adelante\n",
        "  def forward(self, inputs):\n",
        "\n",
        "    # Remember input values\n",
        "    self.inputs = inputs\n",
        "    \n",
        "    # Aplicamos ReLU a los datos salientes de la operación inicial\n",
        "    self.output = inputs.copy()\n",
        "\n",
        "  # Paso hacia atras\n",
        "  def backward(self, dvalues):\n",
        "\n",
        "    # No cabia los outputs entonces\n",
        "    self.dinputs = dvalues.copy()"
      ],
      "execution_count": null,
      "outputs": []
    },
    {
      "cell_type": "code",
      "metadata": {
        "id": "Rp9zXyl1tdYn"
      },
      "source": [
        "# Step\n",
        "class Activation_Step:\n",
        "\n",
        "  # Paso hacia adelante\n",
        "  def forward(self, inputs):\n",
        "\n",
        "    # Guardamos los datos de entrada\n",
        "    self.inputs = inputs\n",
        "    self.output = np.copy(self.inputs)\n",
        "    self.output[self.inputs <= 0] = 0\n",
        "    self.output[self.inputs >= 0] = 1\n",
        "\n",
        "  # Paso hacia atras\n",
        "  def backward(self, dvalues):\n",
        "\n",
        "    # Guardamos una copia de las derivadas\n",
        "    self.dinputs = dvalues.copy()\n",
        "\n",
        "    # Establece gradiante 0\n",
        "    self.dinputs[True] = 0"
      ],
      "execution_count": null,
      "outputs": []
    },
    {
      "cell_type": "code",
      "metadata": {
        "id": "xHbF12EdGMiY"
      },
      "source": [
        "# ReLU\n",
        "class Activation_ReLU:\n",
        "  # Paso hacia adelante\n",
        "  def forward(self, inputs):\n",
        "    # Guardamos los datos de entrada\n",
        "    self.inputs = inputs\n",
        "    # Aplicamos ReLU a los datos salientes de la operación inicial\n",
        "    self.output = np.maximum(0, inputs)\n",
        "\n",
        "  # Paso hacia atras\n",
        "  def backward(self, dvalues):\n",
        "    \n",
        "    # Guardamos una copia de las derivadas\n",
        "    self.dinputs = dvalues.copy()\n",
        "\n",
        "    # Establece gradiante 0 si los inputs son negativos\n",
        "    self.dinputs[self.inputs <= 0] = 0"
      ],
      "execution_count": null,
      "outputs": []
    },
    {
      "cell_type": "code",
      "metadata": {
        "id": "tlYsCTMbGP99"
      },
      "source": [
        "# Softmax activation\n",
        "class Activation_Softmax:\n",
        "\n",
        "  # Forward pass\n",
        "  def forward(self, inputs):\n",
        "\n",
        "    # Remember input values\n",
        "    self.inputs = inputs\n",
        "\n",
        "    # Get unnormalized probabilities\n",
        "    exp_values = np.exp(inputs - np.max(inputs, axis=1,\n",
        "                                        keepdims=True))\n",
        "    \n",
        "    # Normalize them for each sample\n",
        "    probabilities = exp_values / np.sum(exp_values, axis=1,\n",
        "                                        keepdims=True)\n",
        "    self.output = probabilities\n",
        "\n",
        "  # Backward pass\n",
        "  def backward(self, dvalues):\n",
        "    # Create uninitialized array\n",
        "    self.dinputs = np.empty_like(dvalues)\n",
        "    # Enumerate outputs and gradients\n",
        "    for index, (single_output, single_dvalues) in \\\n",
        "                enumerate(zip(self.output, dvalues)):\n",
        "      # Flatten output array\n",
        "      single_output = single_output.reshape(-1, 1)\n",
        "      # Calculate Jacobian matrix of the output and\n",
        "      jacobian_matrix = np.diagflat(single_output) - \\\n",
        "                        np.dot(single_output, single_output.T)\n",
        "\n",
        "      # Calculate sample-wise gradient\n",
        "      # and add it to the array of sample gradients\n",
        "      self.dinputs[index] = np.dot(jacobian_matrix,\n",
        "                                  single_dvalues)"
      ],
      "execution_count": null,
      "outputs": []
    },
    {
      "cell_type": "markdown",
      "metadata": {
        "id": "nU7ttOlIFFr8"
      },
      "source": [
        "## Optimizers"
      ]
    },
    {
      "cell_type": "code",
      "metadata": {
        "id": "BvKojmEZGbqK"
      },
      "source": [
        "# Random optimizer\n",
        "class Optimizer_Random:\n",
        "  \n",
        "  # Initialize optimizer - set settings,\n",
        "  # learning rate of 1. is default for this optimizer\n",
        "  def __init__(self):\n",
        "    self.iterations = 0\n",
        "  \n",
        "  # Update parameters\n",
        "  def update_params(self, layer):\n",
        "\n",
        "    # Update weights and biases using either\n",
        "    # vanilla or momentum updates\n",
        "    layer.weights += 0.1*np.random.randn(layer.weights[0].size)\n",
        "    layer.biases += 0.1*np.random.randn(layer.weights[0].size)\n",
        "      \n",
        "  # Call once after any parameter updates\n",
        "  def post_update_params(self):\n",
        "    self.iterations += 1"
      ],
      "execution_count": null,
      "outputs": []
    },
    {
      "cell_type": "code",
      "metadata": {
        "id": "9J94_kNN7-v2"
      },
      "source": [
        "# SGD optimizer\n",
        "class Optimizer_SGD:\n",
        "  \n",
        "  # Initialize optimizer - set settings,\n",
        "  # learning rate of 1. is default for this optimizer\n",
        "  def __init__(self, learning_rate=1., decay=0., momentum=0.):\n",
        "\n",
        "    self.learning_rate = learning_rate\n",
        "    self.current_learning_rate = learning_rate\n",
        "    self.decay = decay\n",
        "    self.iterations = 0\n",
        "    self.momentum = momentum\n",
        "\n",
        "  # Call once before any parameter updates\n",
        "  def pre_update_params(self):\n",
        "\n",
        "    if self.decay:\n",
        "      self.current_learning_rate = self.learning_rate * \\\n",
        "                (1. / (1. + self.decay * self.iterations))\n",
        "\n",
        "  # Update parameters\n",
        "  def update_params(self, layer):\n",
        "\n",
        "    # If we use momentum\n",
        "    if self.momentum:\n",
        "\n",
        "      # If layer does not contain momentum arrays, create them\n",
        "      # filled with zeros\n",
        "      if not hasattr(layer, 'weight_momentums'):\n",
        "        layer.weight_momentums = np.zeros_like(layer.weights)\n",
        "        \n",
        "        # If there is no momentum array for weights\n",
        "        # The array doesn't exist for biases yet either.\n",
        "        layer.bias_momentums = np.zeros_like(layer.biases)\n",
        "\n",
        "        # Build weight updates with momentum - take previous\n",
        "        # updates multiplied by retain factor and update with\n",
        "        # current gradients\n",
        "        weight_updates = \\\n",
        "            self.momentum * layer.weight_momentums - \\\n",
        "            self.current_learning_rate * layer.dweights\n",
        "\n",
        "        layer.weight_momentums = weight_updates\n",
        "        # Build bias updates\n",
        "        bias_updates = \\\n",
        "            self.momentum * layer.bias_momentums - \\\n",
        "            self.current_learning_rate * layer.dbiases\n",
        "\n",
        "        layer.bias_momentums = bias_updates\n",
        "\n",
        "    # Vanilla SGD updates (as before momentum update)\n",
        "    else:\n",
        "      weight_updates = -self.current_learning_rate * \\\n",
        "                      layer.dweights\n",
        "      bias_updates = -self.current_learning_rate * \\\n",
        "                      layer.dbiases\n",
        "\n",
        "    # Update weights and biases using either\n",
        "    # vanilla or momentum updates\n",
        "    layer.weights += weight_updates\n",
        "    layer.biases += bias_updates\n",
        "\n",
        "  # Call once after any parameter updates\n",
        "  def post_update_params(self):\n",
        "    self.iterations += 1"
      ],
      "execution_count": null,
      "outputs": []
    },
    {
      "cell_type": "code",
      "metadata": {
        "id": "g89aa9VCGunI"
      },
      "source": [
        "# Adagrad optimizer\n",
        "class Optimizer_Adagrad:\n",
        "  # Initialize optimizer - set settings\n",
        "  def __init__(self, learning_rate=1., decay=0., epsilon=1e-7):\n",
        "    self.learning_rate = learning_rate\n",
        "    self.current_learning_rate = learning_rate\n",
        "    self.decay = decay\n",
        "    self.iterations = 0\n",
        "    self.epsilon = epsilon\n",
        "\n",
        "  # Call once before any parameter updates\n",
        "  def pre_update_params(self):\n",
        "    if self.decay:\n",
        "      self.current_learning_rate = self.learning_rate * \\\n",
        "            (1. / (1. + self.decay * self.iterations))\n",
        "\n",
        "  # Update parameters\n",
        "  def update_params(self, layer):\n",
        "    \n",
        "    # If layer does not contain cache arrays,\n",
        "    # create them filled with zeros\n",
        "    if not hasattr(layer, 'weight_cache'):\n",
        "      layer.weight_cache = np.zeros_like(layer.weights)\n",
        "      layer.bias_cache = np.zeros_like(layer.biases)\n",
        "\n",
        "    # Update cache with squared current gradients\n",
        "    layer.weight_cache += layer.dweights**2\n",
        "    layer.bias_cache += layer.dbiases**2\n",
        "\n",
        "    # Vanilla SGD parameter update + normalization\n",
        "    # with square rooted cache\n",
        "    layer.weights += -self.current_learning_rate * layer.dweights / \\\n",
        "                      (np.sqrt(layer.weight_cache) + self.epsilon)\n",
        "    layer.biases += -self.current_learning_rate * layer.dbiases / \\\n",
        "                      (np.sqrt(layer.bias_cache) + self.epsilon)\n",
        "  \n",
        "  # Call once after any parameter updates\n",
        "  def post_update_params(self):\n",
        "    self.iterations += 1"
      ],
      "execution_count": null,
      "outputs": []
    },
    {
      "cell_type": "code",
      "metadata": {
        "id": "TGnD0DcnG6ho"
      },
      "source": [
        "# RMSprop optimizer\n",
        "class Optimizer_RMSprop:\n",
        "  # Initialize optimizer - set settings\n",
        "  def __init__(self, learning_rate=0.001, decay=0., epsilon=1e-7, rho=0.9):\n",
        "    self.learning_rate = learning_rate\n",
        "    self.current_learning_rate = learning_rate\n",
        "    self.decay = decay\n",
        "    self.iterations = 0\n",
        "    self.epsilon = epsilon\n",
        "    self.rho = rho\n",
        "\n",
        "  # Call once before any parameter updates\n",
        "  def pre_update_params(self):\n",
        "    if self.decay:\n",
        "      self.current_learning_rate = self.learning_rate * \\\n",
        "            (1. / (1. + self.decay * self.iterations))\n",
        "  \n",
        "  # Update parameters\n",
        "  def update_params(self, layer):\n",
        "\n",
        "      # If layer does not contain cache arrays,\n",
        "      # create them filled with zeros\n",
        "      if not hasattr(layer, 'weight_cache'):\n",
        "          layer.weight_cache = np.zeros_like(layer.weights)\n",
        "          layer.bias_cache = np.zeros_like(layer.biases)\n",
        "          \n",
        "      # Update cache with squared current gradients\n",
        "      layer.weight_cache = self.rho * layer.weight_cache + \\\n",
        "          (1 - self.rho) * layer.dweights**2\n",
        "      layer.bias_cache = self.rho * layer.bias_cache + \\\n",
        "          (1 - self.rho) * layer.dbiases**2\n",
        "\n",
        "      # Vanilla SGD parameter update + normalization\n",
        "      # with square rooted cache\n",
        "      layer.weights += -self.current_learning_rate * layer.dweights / \\\n",
        "                        (np.sqrt(layer.weight_cache) + self.epsilon)\n",
        "\n",
        "      layer.biases += -self.current_learning_rate * layer.dbiases / \\\n",
        "                      (np.sqrt(layer.bias_cache) + self.epsilon)\n",
        "\n",
        "  def post_update_params(self):\n",
        "    self.iterations += 1"
      ],
      "execution_count": null,
      "outputs": []
    },
    {
      "cell_type": "code",
      "metadata": {
        "id": "mhEC58pBJqq9"
      },
      "source": [
        "# Adam optimizer\n",
        "class Optimizer_Adam:\n",
        "\n",
        "  # Initialize optimizer - set settings\n",
        "  def __init__(self, learning_rate=0.001, decay=0., epsilon=1e-7, beta_1=0.9, beta_2=0.999):\n",
        "\n",
        "      self.learning_rate = learning_rate\n",
        "      self.current_learning_rate = learning_rate\n",
        "      self.decay = decay\n",
        "      self.iterations = 0\n",
        "      self.epsilon = epsilon\n",
        "      self.beta_1 = beta_1\n",
        "      self.beta_2 = beta_2\n",
        "\n",
        "  # Call once before any parameter updates\n",
        "  def pre_update_params(self):\n",
        "    if self.decay:\n",
        "      self.current_learning_rate = self.learning_rate * \\\n",
        "                (1. / (1. + self.decay * self.iterations))\n",
        "\n",
        "  # Update parameters\n",
        "  def update_params(self, layer):\n",
        "\n",
        "    # If layer does not contain cache arrays,\n",
        "    # create them filled with zeros\n",
        "    if not hasattr(layer, 'weight_cache'):\n",
        "      layer.weight_momentums = np.zeros_like(layer.weights)\n",
        "      layer.weight_cache = np.zeros_like(layer.weights)\n",
        "      layer.bias_momentums = np.zeros_like(layer.biases)\n",
        "      layer.bias_cache = np.zeros_like(layer.biases)\n",
        "\n",
        "    # Update momentum with current gradients\n",
        "    layer.weight_momentums = self.beta_1 * layer.weight_momentums + \\\n",
        "                              (1 - self.beta_1) * layer.dweights\n",
        "\n",
        "    layer.bias_momentums = self.beta_1 * layer.bias_momentums + \\\n",
        "                           (1 - self.beta_1) * layer.dbiases\n",
        "\n",
        "    # Get corrected momentum\n",
        "    # self.iteration is 0 at first pass\n",
        "    # and we need to start with 1 here\n",
        "    weight_momentums_corrected = layer.weight_momentums / \\\n",
        "                                  (1 - self.beta_1 ** (self.iterations + 1))\n",
        "\n",
        "    bias_momentums_corrected = layer.bias_momentums / \\\n",
        "                              (1 - self.beta_1 ** (self.iterations + 1))\n",
        "\n",
        "    # Update cache with squared current gradients\n",
        "    layer.weight_cache = self.beta_2 * layer.weight_cache + \\\n",
        "                         (1 - self.beta_2) * layer.dweights**2\n",
        "\n",
        "    layer.bias_cache = self.beta_2 * layer.bias_cache + \\\n",
        "                        (1 - self.beta_2) * layer.dbiases**2\n",
        "                        \n",
        "    # Get corrected cache\n",
        "    weight_cache_corrected = layer.weight_cache / \\\n",
        "                              (1 - self.beta_2 ** (self.iterations + 1))\n",
        "\n",
        "    bias_cache_corrected = layer.bias_cache / \\\n",
        "                          (1 - self.beta_2 ** (self.iterations + 1))\n",
        "                          \n",
        "    # Vanilla SGD parameter update + normalization\n",
        "    # with square rooted cache\n",
        "    layer.weights += -self.current_learning_rate * \\\n",
        "                    weight_momentums_corrected / \\\n",
        "                    (np.sqrt(weight_cache_corrected) + self.epsilon)\n",
        "\n",
        "    layer.biases += -self.current_learning_rate * \\\n",
        "                    bias_momentums_corrected / \\\n",
        "                    (np.sqrt(bias_cache_corrected) + self.epsilon)\n",
        "\n",
        "  # Call once after any parameter updates\n",
        "  def post_update_params(self):\n",
        "      self.iterations += 1\n"
      ],
      "execution_count": null,
      "outputs": []
    },
    {
      "cell_type": "markdown",
      "metadata": {
        "id": "KLJw6a_CFOPh"
      },
      "source": [
        "## Loss Functions"
      ]
    },
    {
      "cell_type": "code",
      "metadata": {
        "id": "UCJODfQLhc5y"
      },
      "source": [
        "# Common loss class\n",
        "class Loss:\n",
        "\n",
        "  # Calculates the data and regularization losses\n",
        "  # given model output and ground truth values\n",
        "  def calculate(self, output, y):\n",
        "\n",
        "    # Calculate sample losses\n",
        "    sample_losses = self.forward(output, y)\n",
        "\n",
        "    # Calculate mean loss\n",
        "    data_loss = np.mean(sample_losses)\n",
        "    \n",
        "    # Return loss\n",
        "    return data_loss\n"
      ],
      "execution_count": null,
      "outputs": []
    },
    {
      "cell_type": "code",
      "metadata": {
        "id": "UHgi2dwRLCPY"
      },
      "source": [
        "# Cross-entropy loss\n",
        "class Loss_CategoricalCrossentropy(Loss):\n",
        "\n",
        "  # Forward pass\n",
        "  def forward(self, y_pred, y_true):\n",
        "\n",
        "      # Number of samples in a batch\n",
        "      samples = len(y_pred)\n",
        "\n",
        "      # Clip data to prevent division by 0\n",
        "      # Clip both sides to not drag mean towards any value\n",
        "      y_pred_clipped = np.clip(y_pred, 1e-7, 1 - 1e-7)\n",
        "      \n",
        "      # Probabilities for target values -\n",
        "      # only if categorical labels\n",
        "      if len(y_true.shape) == 1:\n",
        "        correct_confidences = y_pred_clipped[range(samples),\n",
        "                              y_true]\n",
        "\n",
        "      # Mask values - only for one-hot encoded labels\n",
        "      elif len(y_true.shape) == 2:\n",
        "        correct_confidences = np.sum(y_pred_clipped * y_true, axis=1)\n",
        "\n",
        "      # Losses\n",
        "      negative_log_likelihoods = -np.log(correct_confidences)\n",
        "      return negative_log_likelihoods\n",
        "  \n",
        "  # Backward pass\n",
        "  def backward(self, dvalues, y_true):\n",
        "\n",
        "    # Number of samples\n",
        "    samples = len(dvalues)\n",
        "\n",
        "    # Number of labels in every sample\n",
        "    # We'll use the first sample to count them\n",
        "\n",
        "    labels = len(dvalues[0])\n",
        "    \n",
        "    # If labels are sparse, turn them into one-hot vector\n",
        "    if len(y_true.shape) == 1:\n",
        "        y_true = np.eye(labels)[y_true]\n",
        "\n",
        "    # Calculate gradient\n",
        "    self.dinputs = -y_true / dvalues\n",
        "\n",
        "    # Normalize gradient\n",
        "    self.dinputs = self.dinputs / samples"
      ],
      "execution_count": null,
      "outputs": []
    },
    {
      "cell_type": "code",
      "metadata": {
        "id": "3ojr1HvaLt68"
      },
      "source": [
        "# Softmax classifier - combined Softmax activation\n",
        "# and cross-entropy loss for faster backward step\n",
        "class Activation_Softmax_Loss_CategoricalCrossentropy():\n",
        "\n",
        "  # Creates activation and loss function objects\n",
        "  def __init__(self):\n",
        "    self.activation = Activation_Softmax()\n",
        "    self.loss = Loss_CategoricalCrossentropy()\n",
        "\n",
        "  # Forward pass\n",
        "  def forward(self, inputs, y_true):\n",
        "    # Output layer's activation function\n",
        "    self.activation.forward(inputs)\n",
        "\n",
        "    # Set the output\n",
        "    self.output = self.activation.output\n",
        "\n",
        "    # Calculate and return loss value\n",
        "    return self.loss.calculate(self.output, y_true)\n",
        "\n",
        "  # Backward pass\n",
        "  def backward(self, dvalues, y_true):\n",
        "    # Number of samples\n",
        "    samples = len(dvalues)\n",
        "\n",
        "    # If labels are one-hot encoded,\n",
        "    # turn them into discrete values\n",
        "    if len(y_true.shape) == 2:\n",
        "      y_true = np.argmax(y_true, axis=1)\n",
        "\n",
        "    # Copy so we can safely modify\n",
        "    self.dinputs = dvalues.copy()\n",
        "\n",
        "    # Calculate gradient\n",
        "    self.dinputs[range(samples), y_true] -= 1\n",
        "    \n",
        "    # Normalize gradient\n",
        "    self.dinputs = self.dinputs / samples"
      ],
      "execution_count": null,
      "outputs": []
    },
    {
      "cell_type": "markdown",
      "metadata": {
        "id": "LERRNlnaWc7h"
      },
      "source": [
        "# Datasets Visualized"
      ]
    },
    {
      "cell_type": "code",
      "metadata": {
        "colab": {
          "base_uri": "https://localhost:8080/"
        },
        "id": "VxChbO3PUHCr",
        "outputId": "1aed6ef4-9ca9-4710-a97b-7c0c0ee74a93"
      },
      "source": [
        "pip install nnfs"
      ],
      "execution_count": null,
      "outputs": [
        {
          "output_type": "stream",
          "name": "stdout",
          "text": [
            "Requirement already satisfied: nnfs in /usr/local/lib/python3.7/dist-packages (0.5.1)\n",
            "Requirement already satisfied: numpy in /usr/local/lib/python3.7/dist-packages (from nnfs) (1.19.5)\n"
          ]
        }
      ]
    },
    {
      "cell_type": "code",
      "metadata": {
        "id": "VRN9wg4ZWbjp"
      },
      "source": [
        "import nnfs \n",
        "from nnfs import datasets"
      ],
      "execution_count": null,
      "outputs": []
    },
    {
      "cell_type": "code",
      "metadata": {
        "id": "gDC5SYf8Wqhy",
        "colab": {
          "base_uri": "https://localhost:8080/",
          "height": 265
        },
        "outputId": "28e74b36-8845-47fd-a2df-38f0ab5924b1"
      },
      "source": [
        "spiralX, spiralY = datasets.spiral_data(samples=100, classes=3)\n",
        "\n",
        "plt.scatter(spiralX[:, 0], spiralX[:, 1], c=spiralY, cmap='brg')\n",
        "plt.show()"
      ],
      "execution_count": null,
      "outputs": [
        {
          "output_type": "display_data",
          "data": {
            "image/png": "[encoded data removed]",
            "text/plain": [
              "<Figure size 432x288 with 1 Axes>"
            ]
          },
          "metadata": {
            "needs_background": "light"
          }
        }
      ]
    },
    {
      "cell_type": "code",
      "metadata": {
        "colab": {
          "base_uri": "https://localhost:8080/",
          "height": 284
        },
        "id": "kiuyBHLRYQ9k",
        "outputId": "7fa82876-a066-4829-fad4-9ed79f5f71a7"
      },
      "source": [
        "sineX, sineY = datasets.sine_data(samples=100)\n",
        "\n",
        "plt.plot(sineX, sineY)"
      ],
      "execution_count": null,
      "outputs": [
        {
          "output_type": "execute_result",
          "data": {
            "text/plain": [
              "[<matplotlib.lines.Line2D at 0x7f671a98c7d0>]"
            ]
          },
          "metadata": {},
          "execution_count": 158
        },
        {
          "output_type": "display_data",
          "data": {
            "image/png": "[encoded data removed]",
            "text/plain": [
              "<Figure size 432x288 with 1 Axes>"
            ]
          },
          "metadata": {
            "needs_background": "light"
          }
        }
      ]
    },
    {
      "cell_type": "code",
      "metadata": {
        "id": "JgXrJ3bFYnKM",
        "colab": {
          "base_uri": "https://localhost:8080/",
          "height": 267
        },
        "outputId": "d48943ad-96c7-4128-a5a8-93122ac990e9"
      },
      "source": [
        "verticalX, verticalY = datasets.vertical_data(samples=100, classes = 3)\n",
        "\n",
        "plt.scatter(verticalX[:, 0], verticalX[:, 1], c=verticalY, cmap='brg')\n",
        "plt.show()"
      ],
      "execution_count": null,
      "outputs": [
        {
          "output_type": "display_data",
          "data": {
            "image/png": "[encoded data removed]",
            "text/plain": [
              "<Figure size 432x288 with 1 Axes>"
            ]
          },
          "metadata": {
            "needs_background": "light"
          }
        }
      ]
    },
    {
      "cell_type": "markdown",
      "metadata": {
        "id": "7Jxx-Nf-3e-U"
      },
      "source": [
        "# Testing Optimization Functions"
      ]
    },
    {
      "cell_type": "code",
      "metadata": {
        "colab": {
          "base_uri": "https://localhost:8080/"
        },
        "id": "5axglJnG3ehA",
        "outputId": "b57f13d1-2a14-4218-9fe7-b05a2530b591"
      },
      "source": [
        "# Create Dense layer with 2 input features and 64 output values\n",
        "dense1 = Layer_Dense(2, 64)\n",
        "\n",
        "# Create ReLU activation (to be used with Dense layer):\n",
        "activation1 = Activation_ReLU()\n",
        "\n",
        "# Create second Dense layer with 64 input features (as we take output\n",
        "# of previous layer here) and 3 output values (output values)\n",
        "dense2 = Layer_Dense(64, 3)\n",
        "\n",
        "# Create Softmax classifier's combined loss and activation\n",
        "loss_activation = Activation_Softmax_Loss_CategoricalCrossentropy()\n",
        "\n",
        "# Create optimizer\n",
        "optimizer = Optimizer_Adam(learning_rate=0.05, decay=5e-7)\n",
        "\n",
        "# Train in loop\n",
        "for epoch in range(10001):\n",
        "  # Perform a forward pass of our training data through this layer\n",
        "  dense1.forward(spiralX)\n",
        "\n",
        "  # Perform a forward pass through activation function\n",
        "  # takes the output of first dense layer here\n",
        "  activation1.forward(dense1.output)\n",
        "\n",
        "  # Perform a forward pass through second Dense layer\n",
        "  # takes outputs of activation function of first layer as inputs\n",
        "  dense2.forward(activation1.output)\n",
        "\n",
        "  # Perform a forward pass through the activation/loss function\n",
        "  # takes the output of second dense layer here and returns loss\n",
        "  loss = loss_activation.forward(dense2.output, spiralY)\n",
        "\n",
        "  # Calculate accuracy from output of activation2 and targets\n",
        "  # calculate values along first axis\n",
        "  predictions = np.argmax(loss_activation.output, axis=1)\n",
        "  if len(spiralY.shape) == 2:\n",
        "    spiralY = np.argmax(spiralY, axis=1)\n",
        "  accuracy = np.mean(predictions==spiralY)\n",
        "\n",
        "  if not epoch % 1000:\n",
        "\n",
        "    print(f'epoch: {epoch}, ' +\n",
        "    f'acc: {accuracy:.3f}, ' +\n",
        "    f'loss: {loss:.3f}, ' +\n",
        "    f'lr: {optimizer.current_learning_rate}')\n",
        "\n",
        "  # Backward pass\n",
        "  loss_activation.backward(loss_activation.output, spiralY)\n",
        "  dense2.backward(loss_activation.dinputs)\n",
        "  activation1.backward(dense2.dinputs)\n",
        "  dense1.backward(activation1.dinputs)\n",
        "\n",
        "  # Update weights and biases\n",
        "  optimizer.pre_update_params()\n",
        "  optimizer.update_params(dense1)\n",
        "  optimizer.update_params(dense2)\n",
        "  optimizer.post_update_params()"
      ],
      "execution_count": null,
      "outputs": [
        {
          "output_type": "stream",
          "name": "stdout",
          "text": [
            "epoch: 0, acc: 0.333, loss: 1.099, lr: 0.05\n",
            "epoch: 1000, acc: 0.827, loss: 0.431, lr: 0.049975037468784345\n",
            "epoch: 2000, acc: 0.853, loss: 0.380, lr: 0.04995007490013731\n",
            "epoch: 3000, acc: 0.867, loss: 0.345, lr: 0.049925137256683606\n",
            "epoch: 4000, acc: 0.870, loss: 0.333, lr: 0.049900224501110035\n",
            "epoch: 5000, acc: 0.870, loss: 0.313, lr: 0.04987533659617785\n",
            "epoch: 6000, acc: 0.873, loss: 0.303, lr: 0.04985047350472258\n",
            "epoch: 7000, acc: 0.890, loss: 0.293, lr: 0.04982563518965381\n",
            "epoch: 8000, acc: 0.887, loss: 0.287, lr: 0.04980082161395499\n",
            "epoch: 9000, acc: 0.867, loss: 0.288, lr: 0.04977603274068329\n",
            "epoch: 10000, acc: 0.887, loss: 0.282, lr: 0.04975126853296942\n"
          ]
        }
      ]
    },
    {
      "cell_type": "code",
      "metadata": {
        "id": "A5-FJEVu4f6T",
        "colab": {
          "base_uri": "https://localhost:8080/"
        },
        "outputId": "f9f3721c-cae7-4668-9d3e-74012101925a"
      },
      "source": [
        "# Create Dense layer with 2 input features and 64 output values\n",
        "dense1 = Layer_Dense(2, 64)\n",
        "\n",
        "# Create ReLU activation (to be used with Dense layer):\n",
        "activation1 = Activation_Step()\n",
        "\n",
        "# Create second Dense layer with 64 input features (as we take output\n",
        "# of previous layer here) and 3 output values (output values)\n",
        "dense2 = Layer_Dense(64, 3)\n",
        "\n",
        "# Create Softmax classifier's combined loss and activation\n",
        "loss_activation = Activation_Softmax_Loss_CategoricalCrossentropy()\n",
        "\n",
        "# Create optimizer\n",
        "optimizer = Optimizer_Random()\n",
        "\n",
        "# Train in loop\n",
        "for epoch in range(10001):\n",
        "  # Perform a forward pass of our training data through this layer\n",
        "  dense1.forward(spiralX)\n",
        "\n",
        "  # Perform a forward pass through activation function\n",
        "  # takes the output of first dense layer here\n",
        "  activation1.forward(dense1.output)\n",
        "\n",
        "  # Perform a forward pass through second Dense layer\n",
        "  # takes outputs of activation function of first layer as inputs\n",
        "  dense2.forward(activation1.output)\n",
        "\n",
        "  # Perform a forward pass through the activation/loss function\n",
        "  # takes the output of second dense layer here and returns loss\n",
        "  loss = loss_activation.forward(dense2.output, spiralY)\n",
        "\n",
        "  # Calculate accuracy from output of activation2 and targets\n",
        "  # calculate values along first axis\n",
        "  predictions = np.argmax(loss_activation.output, axis=1)\n",
        "  if len(spiralY.shape) == 2:\n",
        "    spiralY = np.argmax(spiralY, axis=1)\n",
        "  accuracy = np.mean(predictions==spiralY)\n",
        "\n",
        "  if not epoch % 1000:\n",
        "\n",
        "    print(f'epoch: {epoch}, ' +\n",
        "    f'acc: {accuracy:.3f}, ' +\n",
        "    f'loss: {loss:.3f}, ')\n",
        "\n",
        "  # Backward pass\n",
        "  loss_activation.backward(loss_activation.output, spiralY)\n",
        "  dense2.backward(loss_activation.dinputs)\n",
        "  activation1.backward(dense2.dinputs)\n",
        "  dense1.backward(activation1.dinputs)\n",
        "\n",
        "  # Update weights and biases\n",
        "  optimizer.update_params(dense1)\n",
        "  optimizer.update_params(dense2)\n",
        "  optimizer.post_update_params()"
      ],
      "execution_count": null,
      "outputs": [
        {
          "output_type": "stream",
          "name": "stdout",
          "text": [
            "epoch: 0, acc: 0.310, loss: 1.099, \n",
            "epoch: 1000, acc: 0.333, loss: 10.745, \n",
            "epoch: 2000, acc: 0.333, loss: 10.742, \n",
            "epoch: 3000, acc: 0.333, loss: 10.745, \n",
            "epoch: 4000, acc: 0.333, loss: 10.745, \n",
            "epoch: 5000, acc: 0.333, loss: 10.745, \n",
            "epoch: 6000, acc: 0.333, loss: 10.745, \n",
            "epoch: 7000, acc: 0.333, loss: 10.745, \n",
            "epoch: 8000, acc: 0.333, loss: 10.745, \n",
            "epoch: 9000, acc: 0.333, loss: 10.745, \n",
            "epoch: 10000, acc: 0.333, loss: 10.745, \n"
          ]
        }
      ]
    },
    {
      "cell_type": "code",
      "metadata": {
        "colab": {
          "base_uri": "https://localhost:8080/"
        },
        "id": "QSoQU7hqYJCB",
        "outputId": "24c89d86-80e5-4753-f272-d0470406d398"
      },
      "source": [
        "# Create Dense layer with 2 input features and 64 output values\n",
        "dense1 = Layer_Dense(2, 64)\n",
        "\n",
        "# Create ReLU activation (to be used with Dense layer):\n",
        "activation1 = Activation_Step()\n",
        "\n",
        "# Create second Dense layer with 64 input features (as we take output\n",
        "# of previous layer here) and 3 output values (output values)\n",
        "dense2 = Layer_Dense(64, 3)\n",
        "\n",
        "# Create Softmax classifier's combined loss and activation\n",
        "loss_activation = Activation_Softmax_Loss_CategoricalCrossentropy()\n",
        "\n",
        "# Create optimizer\n",
        "optimizer = Optimizer_SGD(learning_rate=0.05, decay=5e-7)\n",
        "\n",
        "# Train in loop\n",
        "for epoch in range(10001):\n",
        "  # Perform a forward pass of our training data through this layer\n",
        "  dense1.forward(verticalX)\n",
        "\n",
        "  # Perform a forward pass through activation function\n",
        "  # takes the output of first dense layer here\n",
        "  activation1.forward(dense1.output)\n",
        "\n",
        "  # Perform a forward pass through second Dense layer\n",
        "  # takes outputs of activation function of first layer as inputs\n",
        "  dense2.forward(activation1.output)\n",
        "\n",
        "  # Perform a forward pass through the activation/loss function\n",
        "  # takes the output of second dense layer here and returns loss\n",
        "  loss = loss_activation.forward(dense2.output, verticalY)\n",
        "\n",
        "  # Calculate accuracy from output of activation2 and targets\n",
        "  # calculate values along first axis\n",
        "  predictions = np.argmax(loss_activation.output, axis=1)\n",
        "  if len(verticalY.shape) == 2:\n",
        "    verticalY = np.argmax(verticalY, axis=1)\n",
        "  accuracy = np.mean(predictions==verticalY)\n",
        "\n",
        "  if not epoch % 1000:\n",
        "\n",
        "    print(f'epoch: {epoch}, ' +\n",
        "    f'acc: {accuracy:.3f}, ' +\n",
        "    f'loss: {loss:.3f}, ' +\n",
        "    f'lr: {optimizer.current_learning_rate}')\n",
        "\n",
        "  # Backward pass\n",
        "  loss_activation.backward(loss_activation.output, verticalY)\n",
        "  dense2.backward(loss_activation.dinputs)\n",
        "  activation1.backward(dense2.dinputs)\n",
        "  dense1.backward(activation1.dinputs)\n",
        "\n",
        "  # Update weights and biases\n",
        "  optimizer.pre_update_params()\n",
        "  optimizer.update_params(dense1)\n",
        "  optimizer.update_params(dense2)\n",
        "  optimizer.post_update_params()"
      ],
      "execution_count": null,
      "outputs": [
        {
          "output_type": "stream",
          "name": "stdout",
          "text": [
            "epoch: 0, acc: 0.333, loss: 1.087, lr: 0.05\n",
            "epoch: 1000, acc: 0.943, loss: 0.165, lr: 0.049975037468784345\n",
            "epoch: 2000, acc: 0.943, loss: 0.143, lr: 0.04995007490013731\n",
            "epoch: 3000, acc: 0.950, loss: 0.133, lr: 0.049925137256683606\n",
            "epoch: 4000, acc: 0.950, loss: 0.127, lr: 0.049900224501110035\n",
            "epoch: 5000, acc: 0.950, loss: 0.123, lr: 0.04987533659617785\n",
            "epoch: 6000, acc: 0.950, loss: 0.120, lr: 0.04985047350472258\n",
            "epoch: 7000, acc: 0.950, loss: 0.117, lr: 0.04982563518965381\n",
            "epoch: 8000, acc: 0.950, loss: 0.115, lr: 0.04980082161395499\n",
            "epoch: 9000, acc: 0.950, loss: 0.113, lr: 0.04977603274068329\n",
            "epoch: 10000, acc: 0.950, loss: 0.112, lr: 0.04975126853296942\n"
          ]
        }
      ]
    },
    {
      "cell_type": "code",
      "metadata": {
        "id": "bwewpDnT6HIT",
        "colab": {
          "base_uri": "https://localhost:8080/"
        },
        "outputId": "4662b8ed-d2e4-42d7-d7e6-cc9bd8082ca7"
      },
      "source": [
        "# Create Dense layer with 2 input features and 64 output values\n",
        "dense1 = Layer_Dense(2, 64)\n",
        "\n",
        "# Create ReLU activation (to be used with Dense layer):\n",
        "activation1 = Activation_Step()\n",
        "\n",
        "# Create second Dense layer with 64 input features (as we take output\n",
        "# of previous layer here) and 3 output values (output values)\n",
        "dense2 = Layer_Dense(64, 3)\n",
        "\n",
        "# Create Softmax classifier's combined loss and activation\n",
        "loss_activation = Activation_Softmax_Loss_CategoricalCrossentropy()\n",
        "\n",
        "# Create optimizer\n",
        "optimizer = Optimizer_RMSprop(learning_rate=0.05, decay=5e-7)\n",
        "\n",
        "# Train in loop\n",
        "for epoch in range(10001):\n",
        "  # Perform a forward pass of our training data through this layer\n",
        "  dense1.forward(verticalX)\n",
        "\n",
        "  # Perform a forward pass through activation function\n",
        "  # takes the output of first dense layer here\n",
        "  activation1.forward(dense1.output)\n",
        "\n",
        "  # Perform a forward pass through second Dense layer\n",
        "  # takes outputs of activation function of first layer as inputs\n",
        "  dense2.forward(activation1.output)\n",
        "\n",
        "  # Perform a forward pass through the activation/loss function\n",
        "  # takes the output of second dense layer here and returns loss\n",
        "  loss = loss_activation.forward(dense2.output, verticalY)\n",
        "\n",
        "  # Calculate accuracy from output of activation2 and targets\n",
        "  # calculate values along first axis\n",
        "  predictions = np.argmax(loss_activation.output, axis=1)\n",
        "  if len(verticalY.shape) == 2:\n",
        "    verticalY = np.argmax(verticalY, axis=1)\n",
        "  accuracy = np.mean(predictions==verticalY)\n",
        "\n",
        "  if not epoch % 1000:\n",
        "\n",
        "    print(f'epoch: {epoch}, ' +\n",
        "    f'acc: {accuracy:.3f}, ' +\n",
        "    f'loss: {loss:.3f}, ' +\n",
        "    f'lr: {optimizer.current_learning_rate}')\n",
        "\n",
        "  # Backward pass\n",
        "  loss_activation.backward(loss_activation.output, verticalY)\n",
        "  dense2.backward(loss_activation.dinputs)\n",
        "  activation1.backward(dense2.dinputs)\n",
        "  dense1.backward(activation1.dinputs)\n",
        "\n",
        "  # Update weights and biases\n",
        "  optimizer.pre_update_params()\n",
        "  optimizer.update_params(dense1)\n",
        "  optimizer.update_params(dense2)\n",
        "  optimizer.post_update_params()"
      ],
      "execution_count": null,
      "outputs": [
        {
          "output_type": "stream",
          "name": "stdout",
          "text": [
            "epoch: 0, acc: 0.333, loss: 1.101, lr: 0.05\n",
            "epoch: 1000, acc: 0.933, loss: 0.191, lr: 0.049975037468784345\n",
            "epoch: 2000, acc: 0.933, loss: 0.187, lr: 0.04995007490013731\n",
            "epoch: 3000, acc: 0.933, loss: 0.186, lr: 0.049925137256683606\n",
            "epoch: 4000, acc: 0.933, loss: 0.185, lr: 0.049900224501110035\n",
            "epoch: 5000, acc: 0.933, loss: 0.185, lr: 0.04987533659617785\n",
            "epoch: 6000, acc: 0.933, loss: 0.184, lr: 0.04985047350472258\n",
            "epoch: 7000, acc: 0.933, loss: 0.184, lr: 0.04982563518965381\n",
            "epoch: 8000, acc: 0.933, loss: 0.184, lr: 0.04980082161395499\n",
            "epoch: 9000, acc: 0.933, loss: 0.184, lr: 0.04977603274068329\n",
            "epoch: 10000, acc: 0.933, loss: 0.184, lr: 0.04975126853296942\n"
          ]
        }
      ]
    },
    {
      "cell_type": "code",
      "metadata": {
        "id": "ofzV_9-FZM6y",
        "colab": {
          "base_uri": "https://localhost:8080/"
        },
        "outputId": "aaec0be8-628e-4078-f610-823aee12a89a"
      },
      "source": [
        "# Create Dense layer with 2 input features and 64 output values\n",
        "dense1 = Layer_Dense(2, 64)\n",
        "\n",
        "# Create ReLU activation (to be used with Dense layer):\n",
        "activation1 = Activation_Step()\n",
        "\n",
        "# Create second Dense layer with 64 input features (as we take output\n",
        "# of previous layer here) and 3 output values (output values)\n",
        "dense2 = Layer_Dense(64, 3)\n",
        "\n",
        "# Create Softmax classifier's combined loss and activation\n",
        "loss_activation = Activation_Softmax_Loss_CategoricalCrossentropy()\n",
        "\n",
        "# Create optimizer\n",
        "optimizer = Optimizer_Adagrad(learning_rate=0.05, decay=5e-7)\n",
        "\n",
        "# Train in loop\n",
        "for epoch in range(10001):\n",
        "  # Perform a forward pass of our training data through this layer\n",
        "  dense1.forward(verticalX)\n",
        "\n",
        "  # Perform a forward pass through activation function\n",
        "  # takes the output of first dense layer here\n",
        "  activation1.forward(dense1.output)\n",
        "\n",
        "  # Perform a forward pass through second Dense layer\n",
        "  # takes outputs of activation function of first layer as inputs\n",
        "  dense2.forward(activation1.output)\n",
        "\n",
        "  # Perform a forward pass through the activation/loss function\n",
        "  # takes the output of second dense layer here and returns loss\n",
        "  loss = loss_activation.forward(dense2.output, verticalY)\n",
        "\n",
        "  # Calculate accuracy from output of activation2 and targets\n",
        "  # calculate values along first axis\n",
        "  predictions = np.argmax(loss_activation.output, axis=1)\n",
        "  if len(verticalY.shape) == 2:\n",
        "    verticalY = np.argmax(verticalY, axis=1)\n",
        "  accuracy = np.mean(predictions==verticalY)\n",
        "\n",
        "  if not epoch % 1000:\n",
        "\n",
        "    print(f'epoch: {epoch}, ' +\n",
        "    f'acc: {accuracy:.3f}, ' +\n",
        "    f'loss: {loss:.3f}, ' +\n",
        "    f'lr: {optimizer.current_learning_rate}')\n",
        "\n",
        "  # Backward pass\n",
        "  loss_activation.backward(loss_activation.output, verticalY)\n",
        "  dense2.backward(loss_activation.dinputs)\n",
        "  activation1.backward(dense2.dinputs)\n",
        "  dense1.backward(activation1.dinputs)\n",
        "\n",
        "  # Update weights and biases\n",
        "  optimizer.pre_update_params()\n",
        "  optimizer.update_params(dense1)\n",
        "  optimizer.update_params(dense2)\n",
        "  optimizer.post_update_params()"
      ],
      "execution_count": null,
      "outputs": [
        {
          "output_type": "stream",
          "name": "stdout",
          "text": [
            "epoch: 0, acc: 0.333, loss: 1.109, lr: 0.05\n",
            "epoch: 1000, acc: 0.940, loss: 0.166, lr: 0.049975037468784345\n",
            "epoch: 2000, acc: 0.943, loss: 0.153, lr: 0.04995007490013731\n",
            "epoch: 3000, acc: 0.950, loss: 0.147, lr: 0.049925137256683606\n",
            "epoch: 4000, acc: 0.950, loss: 0.144, lr: 0.049900224501110035\n",
            "epoch: 5000, acc: 0.950, loss: 0.141, lr: 0.04987533659617785\n",
            "epoch: 6000, acc: 0.953, loss: 0.140, lr: 0.04985047350472258\n",
            "epoch: 7000, acc: 0.953, loss: 0.138, lr: 0.04982563518965381\n",
            "epoch: 8000, acc: 0.953, loss: 0.137, lr: 0.04980082161395499\n",
            "epoch: 9000, acc: 0.953, loss: 0.137, lr: 0.04977603274068329\n",
            "epoch: 10000, acc: 0.953, loss: 0.136, lr: 0.04975126853296942\n"
          ]
        }
      ]
    },
    {
      "cell_type": "code",
      "metadata": {
        "colab": {
          "base_uri": "https://localhost:8080/"
        },
        "id": "WaF1eXyajgUH",
        "outputId": "a8298464-d5ac-49b8-ef59-b104fe476dda"
      },
      "source": [
        "# Create Dense layer with 2 input features and 64 output values\n",
        "dense1 = Layer_Dense(1, 64)\n",
        "\n",
        "# Create ReLU activation (to be used with Dense layer):\n",
        "activation1 = Activation_Linear()\n",
        "\n",
        "# Create second Dense layer with 64 input features (as we take output\n",
        "# of previous layer here) and 3 output values (output values)\n",
        "dense2 = Layer_Dense(64, 1)\n",
        "\n",
        "# Create Softmax classifier's combined loss and activation\n",
        "loss_activation = Activation_Softmax_Loss_CategoricalCrossentropy()\n",
        "\n",
        "# Create optimizer\n",
        "optimizer = Optimizer_Adagrad(learning_rate=0.05, decay=5e-7)\n",
        "\n",
        "# Train in loop\n",
        "for epoch in range(10001):\n",
        "  # Perform a forward pass of our training data through this layer\n",
        "  dense1.forward(sineX)\n",
        "\n",
        "  # Perform a forward pass through activation function\n",
        "  # takes the output of first dense layer here\n",
        "  activation1.forward(dense1.output)\n",
        "\n",
        "  # Perform a forward pass through second Dense layer\n",
        "  # takes outputs of activation function of first layer as inputs\n",
        "  dense2.forward(activation1.output)\n",
        "\n",
        "  # Perform a forward pass through the activation/loss function\n",
        "  # takes the output of second dense layer here and returns loss\n",
        "  loss = loss_activation.forward(dense2.output, sineY)\n",
        "\n",
        "  # Calculate accuracy from output of activation2 and targets\n",
        "  # calculate values along first axis\n",
        "  predictions = np.argmax(loss_activation.output, axis=1)\n",
        "  if len(sineY.shape) == 2:\n",
        "    sineY = np.argmax(sineY, axis=1)\n",
        "  accuracy = np.mean(predictions==sineY)\n",
        "\n",
        "  if not epoch % 1000:\n",
        "\n",
        "    print(f'epoch: {epoch}, ' +\n",
        "    f'acc: {accuracy:.3f}, ' +\n",
        "    f'loss: {loss:.3f}, ' +\n",
        "    f'lr: {optimizer.current_learning_rate}')\n",
        "\n",
        "  # Backward pass\n",
        "  loss_activation.backward(loss_activation.output, sineY)\n",
        "  dense2.backward(loss_activation.dinputs)\n",
        "  activation1.backward(dense2.dinputs)\n",
        "  dense1.backward(activation1.dinputs)\n",
        "\n",
        "  # Update weights and biases\n",
        "  optimizer.pre_update_params()\n",
        "  optimizer.update_params(dense1)\n",
        "  optimizer.update_params(dense2)\n",
        "  optimizer.post_update_params()"
      ],
      "execution_count": null,
      "outputs": [
        {
          "output_type": "stream",
          "name": "stdout",
          "text": [
            "epoch: 0, acc: 1.000, loss: nan, lr: 0.05\n"
          ]
        },
        {
          "output_type": "stream",
          "name": "stderr",
          "text": [
            "/usr/local/lib/python3.7/dist-packages/ipykernel_launcher.py:25: RuntimeWarning: divide by zero encountered in log\n",
            "/usr/local/lib/python3.7/dist-packages/ipykernel_launcher.py:25: RuntimeWarning: invalid value encountered in log\n"
          ]
        },
        {
          "output_type": "stream",
          "name": "stdout",
          "text": [
            "epoch: 1000, acc: 1.000, loss: 0.000, lr: 0.049975037468784345\n",
            "epoch: 2000, acc: 1.000, loss: 0.000, lr: 0.04995007490013731\n",
            "epoch: 3000, acc: 1.000, loss: 0.000, lr: 0.049925137256683606\n",
            "epoch: 4000, acc: 1.000, loss: 0.000, lr: 0.049900224501110035\n",
            "epoch: 5000, acc: 1.000, loss: 0.000, lr: 0.04987533659617785\n",
            "epoch: 6000, acc: 1.000, loss: 0.000, lr: 0.04985047350472258\n",
            "epoch: 7000, acc: 1.000, loss: 0.000, lr: 0.04982563518965381\n",
            "epoch: 8000, acc: 1.000, loss: 0.000, lr: 0.04980082161395499\n",
            "epoch: 9000, acc: 1.000, loss: 0.000, lr: 0.04977603274068329\n",
            "epoch: 10000, acc: 1.000, loss: 0.000, lr: 0.04975126853296942\n"
          ]
        }
      ]
    },
    {
      "cell_type": "code",
      "metadata": {
        "colab": {
          "base_uri": "https://localhost:8080/"
        },
        "id": "3e1_MfR_kS0b",
        "outputId": "5e1a094c-6c9c-4a49-c0ac-a8e432f18945"
      },
      "source": [
        "# Create Dense layer with 2 input features and 64 output values\n",
        "dense1 = Layer_Dense(1, 64)\n",
        "\n",
        "# Create ReLU activation (to be used with Dense layer):\n",
        "activation1 = Activation_ReLU()\n",
        "\n",
        "# Create second Dense layer with 64 input features (as we take output\n",
        "# of previous layer here) and 3 output values (output values)\n",
        "dense2 = Layer_Dense(64, 1)\n",
        "\n",
        "# Create Softmax classifier's combined loss and activation\n",
        "loss_activation = Activation_Softmax_Loss_CategoricalCrossentropy()\n",
        "\n",
        "# Create optimizer\n",
        "optimizer = Optimizer_Adagrad(learning_rate=0.05, decay=5e-7)\n",
        "\n",
        "# Train in loop\n",
        "for epoch in range(10001):\n",
        "  # Perform a forward pass of our training data through this layer\n",
        "  dense1.forward(sineX)\n",
        "\n",
        "  # Perform a forward pass through activation function\n",
        "  # takes the output of first dense layer here\n",
        "  activation1.forward(dense1.output)\n",
        "\n",
        "  # Perform a forward pass through second Dense layer\n",
        "  # takes outputs of activation function of first layer as inputs\n",
        "  dense2.forward(activation1.output)\n",
        "\n",
        "  # Perform a forward pass through the activation/loss function\n",
        "  # takes the output of second dense layer here and returns loss\n",
        "  loss = loss_activation.forward(dense2.output, sineY)\n",
        "\n",
        "  # Calculate accuracy from output of activation2 and targets\n",
        "  # calculate values along first axis\n",
        "  predictions = np.argmax(loss_activation.output, axis=1)\n",
        "  if len(sineY.shape) == 2:\n",
        "    sineY = np.argmax(sineY, axis=1)\n",
        "  accuracy = np.mean(predictions==sineY)\n",
        "\n",
        "  if not epoch % 1000:\n",
        "\n",
        "    print(f'epoch: {epoch}, ' +\n",
        "    f'acc: {accuracy:.3f}, ' +\n",
        "    f'loss: {loss:.3f}, ' +\n",
        "    f'lr: {optimizer.current_learning_rate}')\n",
        "\n",
        "  # Backward pass\n",
        "  loss_activation.backward(loss_activation.output, sineY)\n",
        "  dense2.backward(loss_activation.dinputs)\n",
        "  activation1.backward(dense2.dinputs)\n",
        "  dense1.backward(activation1.dinputs)\n",
        "\n",
        "  # Update weights and biases\n",
        "  optimizer.pre_update_params()\n",
        "  optimizer.update_params(dense1)\n",
        "  optimizer.update_params(dense2)\n",
        "  optimizer.post_update_params()"
      ],
      "execution_count": null,
      "outputs": [
        {
          "output_type": "stream",
          "name": "stdout",
          "text": [
            "epoch: 0, acc: 1.000, loss: 0.000, lr: 0.05\n",
            "epoch: 1000, acc: 1.000, loss: 0.000, lr: 0.049975037468784345\n",
            "epoch: 2000, acc: 1.000, loss: 0.000, lr: 0.04995007490013731\n",
            "epoch: 3000, acc: 1.000, loss: 0.000, lr: 0.049925137256683606\n",
            "epoch: 4000, acc: 1.000, loss: 0.000, lr: 0.049900224501110035\n",
            "epoch: 5000, acc: 1.000, loss: 0.000, lr: 0.04987533659617785\n",
            "epoch: 6000, acc: 1.000, loss: 0.000, lr: 0.04985047350472258\n",
            "epoch: 7000, acc: 1.000, loss: 0.000, lr: 0.04982563518965381\n",
            "epoch: 8000, acc: 1.000, loss: 0.000, lr: 0.04980082161395499\n",
            "epoch: 9000, acc: 1.000, loss: 0.000, lr: 0.04977603274068329\n",
            "epoch: 10000, acc: 1.000, loss: 0.000, lr: 0.04975126853296942\n"
          ]
        }
      ]
    },
    {
      "cell_type": "code",
      "metadata": {
        "colab": {
          "base_uri": "https://localhost:8080/"
        },
        "id": "jl4I_vO1m4xX",
        "outputId": "94d0ebb6-df7c-4dbf-b9fa-27c2fe03a9bb"
      },
      "source": [
        "# Create Dense layer with 2 input features and 64 output values\n",
        "dense1 = Layer_Dense(1, 64)\n",
        "\n",
        "# Create ReLU activation (to be used with Dense layer):\n",
        "activation1 = Activation_Linear()\n",
        "\n",
        "# Create second Dense layer with 64 input features (as we take output\n",
        "# of previous layer here) and 3 output values (output values)\n",
        "dense2 = Layer_Dense(64, 1)\n",
        "\n",
        "# Create Softmax classifier's combined loss and activation\n",
        "loss_activation = Activation_Softmax_Loss_CategoricalCrossentropy()\n",
        "\n",
        "# Create optimizer\n",
        "optimizer = Optimizer_Adagrad(learning_rate=0.05, decay=5e-7)\n",
        "\n",
        "# Train in loop\n",
        "for epoch in range(10001):\n",
        "  # Perform a forward pass of our training data through this layer\n",
        "  dense1.forward(sineX)\n",
        "\n",
        "  # Perform a forward pass through activation function\n",
        "  # takes the output of first dense layer here\n",
        "  activation1.forward(dense1.output)\n",
        "\n",
        "  # Perform a forward pass through second Dense layer\n",
        "  # takes outputs of activation function of first layer as inputs\n",
        "  dense2.forward(activation1.output)\n",
        "\n",
        "  # Perform a forward pass through the activation/loss function\n",
        "  # takes the output of second dense layer here and returns loss\n",
        "  loss = loss_activation.forward(dense2.output, sineY)\n",
        "\n",
        "  # Calculate accuracy from output of activation2 and targets\n",
        "  # calculate values along first axis\n",
        "  predictions = np.argmax(loss_activation.output, axis=1)\n",
        "  if len(sineY.shape) == 2:\n",
        "    sineY = np.argmax(sineY, axis=1)\n",
        "  accuracy = np.mean(predictions==sineY)\n",
        "\n",
        "  if not epoch % 1000:\n",
        "\n",
        "    print(f'epoch: {epoch}, ' +\n",
        "    f'acc: {accuracy:.3f}, ' +\n",
        "    f'loss: {loss:.3f}, ' +\n",
        "    f'lr: {optimizer.current_learning_rate}')\n",
        "\n",
        "  # Backward pass\n",
        "  loss_activation.backward(loss_activation.output, sineY)\n",
        "  dense2.backward(loss_activation.dinputs)\n",
        "  activation1.backward(dense2.dinputs)\n",
        "  dense1.backward(activation1.dinputs)\n",
        "\n",
        "  # Update weights and biases\n",
        "  optimizer.pre_update_params()\n",
        "  optimizer.update_params(dense1)\n",
        "  optimizer.update_params(dense2)\n",
        "  optimizer.post_update_params()"
      ],
      "execution_count": null,
      "outputs": [
        {
          "output_type": "stream",
          "name": "stdout",
          "text": [
            "epoch: 0, acc: 1.000, loss: 0.000, lr: 0.05\n",
            "epoch: 1000, acc: 1.000, loss: 0.000, lr: 0.049975037468784345\n",
            "epoch: 2000, acc: 1.000, loss: 0.000, lr: 0.04995007490013731\n",
            "epoch: 3000, acc: 1.000, loss: 0.000, lr: 0.049925137256683606\n",
            "epoch: 4000, acc: 1.000, loss: 0.000, lr: 0.049900224501110035\n",
            "epoch: 5000, acc: 1.000, loss: 0.000, lr: 0.04987533659617785\n",
            "epoch: 6000, acc: 1.000, loss: 0.000, lr: 0.04985047350472258\n",
            "epoch: 7000, acc: 1.000, loss: 0.000, lr: 0.04982563518965381\n",
            "epoch: 8000, acc: 1.000, loss: 0.000, lr: 0.04980082161395499\n",
            "epoch: 9000, acc: 1.000, loss: 0.000, lr: 0.04977603274068329\n",
            "epoch: 10000, acc: 1.000, loss: 0.000, lr: 0.04975126853296942\n"
          ]
        }
      ]
    },
    {
      "cell_type": "markdown",
      "metadata": {
        "id": "LJUHpB4JG_JX"
      },
      "source": [
        "# Prediction of Data"
      ]
    },
    {
      "cell_type": "code",
      "metadata": {
        "id": "bLVDcCpSHHns"
      },
      "source": [
        "trainX, trainY = datasets.vertical_data(samples=200, classes=3)\n",
        "testX, testY = datasets.vertical_data(samples=50, classes=3)"
      ],
      "execution_count": null,
      "outputs": []
    },
    {
      "cell_type": "code",
      "metadata": {
        "colab": {
          "base_uri": "https://localhost:8080/"
        },
        "id": "oOOcnecGIpCt",
        "outputId": "a6507a18-1fb8-4b84-b29a-94b7bc41a1db"
      },
      "source": [
        "# Create Dense layer with 2 input features and 64 output values\n",
        "dense1 = Layer_Dense(2, 64)\n",
        "\n",
        "# Create ReLU activation (to be used with Dense layer):\n",
        "activation1 = Activation_ReLU()\n",
        "\n",
        "# Create second Dense layer with 64 input features (as we take output\n",
        "# of previous layer here) and 3 output values (output values)\n",
        "dense2 = Layer_Dense(64, 3)\n",
        "\n",
        "activation2 = Activation_Softmax()\n",
        "\n",
        "# Create Softmax classifier's combined loss and activation\n",
        "loss_activation = Activation_Softmax_Loss_CategoricalCrossentropy()\n",
        "\n",
        "# Create optimizer\n",
        "optimizer = Optimizer_SGD(learning_rate=0.05, decay=5e-7)\n",
        "\n",
        "# Train in loop\n",
        "for epoch in range(10001):\n",
        "  # Perform a forward pass of our training data through this layer\n",
        "  dense1.forward(trainX)\n",
        "\n",
        "  # Perform a forward pass through activation function\n",
        "  # takes the output of first dense layer here\n",
        "  activation1.forward(dense1.output)\n",
        "\n",
        "  # Perform a forward pass through second Dense layer\n",
        "  # takes outputs of activation function of first layer as inputs\n",
        "  dense2.forward(activation1.output)\n",
        "\n",
        "  # Perform a forward pass through the activation/loss function\n",
        "  # takes the output of second dense layer here and returns loss\n",
        "  loss = loss_activation.forward(dense2.output, trainY)\n",
        "\n",
        "  # Calculate accuracy from output of activation2 and targets\n",
        "  # calculate values along first axis\n",
        "  predictions = np.argmax(loss_activation.output, axis=1)\n",
        "  if len(trainY.shape) == 2:\n",
        "    trainY = np.argmax(spiralY, axis=1)\n",
        "  accuracy = np.mean(predictions==trainY)\n",
        "\n",
        "  if not epoch % 1000:\n",
        "\n",
        "    print(f'epoch: {epoch}, ' +\n",
        "    f'acc: {accuracy:.3f}, ' +\n",
        "    f'loss: {loss:.3f}, ' +\n",
        "    f'lr: {optimizer.current_learning_rate}')\n",
        "\n",
        "  # Backward pass\n",
        "  loss_activation.backward(loss_activation.output, trainY)\n",
        "  dense2.backward(loss_activation.dinputs)\n",
        "  activation1.backward(dense2.dinputs)\n",
        "  dense1.backward(activation1.dinputs)\n",
        "\n",
        "  # Update weights and biases\n",
        "  optimizer.pre_update_params()\n",
        "  optimizer.update_params(dense1)\n",
        "  optimizer.update_params(dense2)\n",
        "  optimizer.post_update_params()"
      ],
      "execution_count": null,
      "outputs": [
        {
          "output_type": "stream",
          "name": "stdout",
          "text": [
            "epoch: 0, acc: 0.333, loss: 1.099, lr: 0.05\n",
            "epoch: 1000, acc: 0.948, loss: 0.331, lr: 0.049975037468784345\n",
            "epoch: 2000, acc: 0.947, loss: 0.170, lr: 0.04995007490013731\n",
            "epoch: 3000, acc: 0.947, loss: 0.146, lr: 0.049925137256683606\n",
            "epoch: 4000, acc: 0.947, loss: 0.138, lr: 0.049900224501110035\n",
            "epoch: 5000, acc: 0.948, loss: 0.135, lr: 0.04987533659617785\n",
            "epoch: 6000, acc: 0.948, loss: 0.134, lr: 0.04985047350472258\n",
            "epoch: 7000, acc: 0.948, loss: 0.133, lr: 0.04982563518965381\n",
            "epoch: 8000, acc: 0.948, loss: 0.132, lr: 0.04980082161395499\n",
            "epoch: 9000, acc: 0.948, loss: 0.132, lr: 0.04977603274068329\n",
            "epoch: 10000, acc: 0.948, loss: 0.132, lr: 0.04975126853296942\n"
          ]
        }
      ]
    },
    {
      "cell_type": "code",
      "metadata": {
        "colab": {
          "base_uri": "https://localhost:8080/"
        },
        "id": "9QBFOGoTJFuG",
        "outputId": "722a2bec-3fdf-422e-9d1f-e98d05d1d288"
      },
      "source": [
        "# Perform a forward pass of our training data through this layer\n",
        "dense1.forward(testX)\n",
        "\n",
        "# Perform a forward pass through activation function\n",
        "# takes the output of first dense layer here\n",
        "activation1.forward(dense1.output)\n",
        "\n",
        "# Perform a forward pass through second Dense layer\n",
        "# takes outputs of activation function of first layer as inputs\n",
        "dense2.forward(activation1.output)\n",
        "\n",
        "# Perform a forward pass through the activation/loss function\n",
        "# takes the output of second dense layer here and returns loss\n",
        "loss = loss_activation.forward(dense2.output, testY)\n",
        "\n",
        "# Calculate accuracy from output of activation2 and targets\n",
        "# calculate values along first axis\n",
        "predictions = np.argmax(loss_activation.output, axis=1)\n",
        "if len(trainY.shape) == 2:\n",
        "  testY = np.argmax(testY, axis=1)\n",
        "accuracy = np.mean(predictions==testY)\n",
        "\n",
        "accuracy"
      ],
      "execution_count": null,
      "outputs": [
        {
          "output_type": "execute_result",
          "data": {
            "text/plain": [
              "0.9"
            ]
          },
          "metadata": {},
          "execution_count": 227
        }
      ]
    },
    {
      "cell_type": "code",
      "metadata": {
        "id": "KHGqfzLoL_Gp"
      },
      "source": [
        "class test:\n",
        "\n",
        "  def predict(self, testX):\n",
        "\n",
        "    dense1.forward(testX)\n",
        "    activation1.forward(dense1.output)\n",
        "    dense2.forward(activation1.output)\n",
        "    activation2.forward(dense2.output)\n",
        "\n",
        "    return np.argmax(activation2.output, axis=1)    "
      ],
      "execution_count": null,
      "outputs": []
    },
    {
      "cell_type": "code",
      "metadata": {
        "colab": {
          "base_uri": "https://localhost:8080/",
          "height": 340
        },
        "id": "dyn7ROQ3LuQc",
        "outputId": "69472b3f-ca70-4ec3-ec01-aab37be2b43e"
      },
      "source": [
        "from mlxtend.plotting import plot_decision_regions\n",
        "\n",
        "neuron = test()\n",
        "\n",
        "neuron.predict(testX)\n",
        "plot_decision_regions(testX, testY, clf=neuron)"
      ],
      "execution_count": null,
      "outputs": [
        {
          "output_type": "stream",
          "name": "stderr",
          "text": [
            "/usr/local/lib/python3.7/dist-packages/mlxtend/plotting/decision_regions.py:244: MatplotlibDeprecationWarning: Passing unsupported keyword arguments to axis() will raise a TypeError in 3.3.\n",
            "  ax.axis(xmin=xx.min(), xmax=xx.max(), y_min=yy.min(), y_max=yy.max())\n"
          ]
        },
        {
          "output_type": "execute_result",
          "data": {
            "text/plain": [
              "<matplotlib.axes._subplots.AxesSubplot at 0x7f6700f3f810>"
            ]
          },
          "metadata": {},
          "execution_count": 228
        },
        {
          "output_type": "display_data",
          "data": {
            "image/png": "[encoded data removed]",
            "text/plain": [
              "<Figure size 432x288 with 1 Axes>"
            ]
          },
          "metadata": {
            "needs_background": "light"
          }
        }
      ]
    },
    {
      "cell_type": "code",
      "metadata": {
        "id": "XU4R9m50NN6N"
      },
      "source": [],
      "execution_count": null,
      "outputs": []
    }
  ]
}