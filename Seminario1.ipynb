{
  "nbformat": 4,
  "nbformat_minor": 0,
  "metadata": {
    "colab": {
      "provenance": [],
      "collapsed_sections": []
    },
    "kernelspec": {
      "name": "python3",
      "display_name": "Python 3"
    },
    "language_info": {
      "name": "python"
    }
  },
  "cells": [
    {
      "cell_type": "code",
      "metadata": {
        "id": "_GQLjf1h1O-3"
      },
      "source": [
        "import numpy"
      ],
      "execution_count": null,
      "outputs": []
    },
    {
      "cell_type": "code",
      "metadata": {
        "id": "koAjsI3oeRGJ"
      },
      "source": [
        "from sympy import *\n",
        "\n",
        "x = symbols('x')\n",
        "y = symbols('y')\n",
        "l = symbols('l') #l es la variable lambda"
      ],
      "execution_count": null,
      "outputs": []
    },
    {
      "cell_type": "markdown",
      "metadata": {
        "id": "5W4b5qcLQaVz"
      },
      "source": [
        "# Punto 1"
      ]
    },
    {
      "cell_type": "markdown",
      "metadata": {
        "id": "EThdMUgsQd0z"
      },
      "source": [
        "Metodo del gradiente"
      ]
    },
    {
      "cell_type": "code",
      "metadata": {
        "id": "36i0bxkQeYRf"
      },
      "source": [
        "+#Punto1\n",
        "def metodoGradiente(f, pInicial, epsilon, counter):\n",
        "\n",
        "        #Encontrando el gradiente\n",
        "        #primera derivada parcial de x evaluada pInicial\n",
        "        x1 = diff(f, x)\n",
        "        xaux1 = x1.subs(x, pInicial[0])\n",
        "        x1 = xaux1.subs(y, pInicial[1])\n",
        "\n",
        "        #primera derivada parcial de y evaluada pInicial\n",
        "        y1 = diff(f, y)\n",
        "        yaux1 = y1.subs(x, pInicial[0])\n",
        "        y1 = yaux1.subs(y, pInicial[1])\n",
        "\n",
        "        #Definiendo gradiente\n",
        "        gradient = [x1, y1]\n",
        "\n",
        "        #Direccion segun el metodo del gradiente normal\n",
        "        direction = [-x1, -y1]\n",
        "\n",
        "        norm = sqrt(x1**2 + y1**2)\n",
        "\n",
        "        print(\"Punto actual: \" + str(pInicial))\n",
        "        print(\"Norma de la derivada: \" + str(norm))\n",
        "        print(\"Iteracion numero: \" + str(counter))\n",
        "        \n",
        "        \"\"\"\n",
        "        if norm < epsilon:\n",
        "          return pInicial\n",
        "        \"\"\"\n",
        "\n",
        "        if counter >= 10:\n",
        "          return pInicial\n",
        "\n",
        "\n",
        "        #Encontrando tamano dde paso\n",
        "        pInicialAux = [pInicial[0] + (l * direction[0]), pInicial[1] + (l * direction[1]) ]\n",
        "        function = f.subs(x, pInicialAux[0])\n",
        "        function1 = function.subs(y, pInicialAux[1])\n",
        "        derF = diff(function1, l) \n",
        "        lamb = solve(derF, l)\n",
        "\n",
        "        #Definiendo el nuevo punto inicial\n",
        "        pInicial = [pInicial[0] + (lamb[0] * direction[0]), pInicial[1] + (lamb[0] * direction[1]) ]\n",
        "        \n",
        "\n",
        "        metodoGradiente(f, pInicial, epsilon, counter + 1)\n",
        "      \n"
      ],
      "execution_count": null,
      "outputs": []
    },
    {
      "cell_type": "code",
      "metadata": {
        "colab": {
          "base_uri": "https://localhost:8080/"
        },
        "id": "hYFcwZc2fxw7",
        "outputId": "436f5ddd-4bde-4f63-b6b7-1744c925b1f6"
      },
      "source": [
        "metodoGradiente((8 * x**2) + (6 * y**2) + (4 * (x -1) * (y-2)), [0.5, 1.5], 0.01, 1)"
      ],
      "execution_count": null,
      "outputs": [
        {
          "output_type": "stream",
          "name": "stdout",
          "text": [
            "[0.5, 1.5]\n",
            "17.0880074906351\n",
            "1\n",
            "[0.103260869565217, 0.442028985507246]\n",
            "4.89113257884120\n",
            "2\n",
            "[0.458919210607462, 0.308657107616405]\n",
            "1.64425307969555\n",
            "3\n",
            "[0.420743926718417, 0.206856350578950]\n",
            "0.470637656869381\n",
            "4\n",
            "[0.454966308871433, 0.194022957271569]\n",
            "0.158214361245450\n",
            "5\n",
            "[0.451292982526205, 0.184227420350959]\n",
            "0.0452859947043152\n",
            "6\n",
            "[0.454585950256963, 0.182992557451925]\n",
            "0.0152238024750671\n",
            "7\n",
            "[0.454232493122819, 0.182050005094208]\n",
            "0.00435753766496572\n",
            "8\n",
            "[0.454549351149456, 0.181931183334219]\n",
            "0.00146487436396728\n",
            "9\n",
            "[0.454515340573227, 0.181840488464276]\n",
            "0.000419293749107070\n",
            "10\n"
          ]
        },
        {
          "output_type": "execute_result",
          "data": {
            "text/plain": [
              "[0.454515340573227, 0.181840488464276]"
            ]
          },
          "metadata": {},
          "execution_count": 120
        }
      ]
    },
    {
      "cell_type": "markdown",
      "metadata": {
        "id": "KaefCEOfQk0J"
      },
      "source": [
        "Metodo de newton"
      ]
    },
    {
      "cell_type": "code",
      "metadata": {
        "id": "JMYfqz5HvcR9"
      },
      "source": [
        "def metodoNewton(f, pInicial, epsilon, counter):\n",
        "        \n",
        "        #Encontrando las primeras derivadas\n",
        "        x1 = diff(f, x)\n",
        "        y1 = diff(f, y)\n",
        "\n",
        "        #Hallando segundas derivadas\n",
        "        x11 = diff(x1, x)\n",
        "        x12 = diff(x1, y)\n",
        "        y21 = diff(y1, x)\n",
        "        y22 = diff(y1, y)\n",
        "\n",
        "        #Define una funcion que reemplaza x y y por los puntos\n",
        "        value = lambda a : a.subs(x,pInicial[0]).subs(y,pInicial[1])\n",
        "        \n",
        "        #Definiendo el gradiente\n",
        "        gradient = Matrix([value(x1), value(y1)])\n",
        "        hessian =  Matrix([[value(x11), value(x12)],[value(y21), value(y22)]])\n",
        "        invHessian = hessian ** -1\n",
        "\n",
        "        #Encuentra la norma\n",
        "        norm = sqrt(value(x1)**2 + value(y1)**2)\n",
        "\n",
        "        print(pInicial)\n",
        "        print(norm)\n",
        "        print(counter)\n",
        "        \n",
        "        \"\"\"\n",
        "        if norm < epsilon:\n",
        "          return pInicial\n",
        "        \"\"\"\n",
        "\n",
        "        if counter >= 10:\n",
        "          return pInicial\n",
        "        \n",
        "        direction = invHessian * gradient\n",
        "        pInicial = [pInicial[0] - direction[0], pInicial[1] - direction[1]]\n",
        "        \n",
        "        metodoNewton(f, pInicial, epsilon, counter + 1)\n",
        "        \n",
        "       \n"
      ],
      "execution_count": null,
      "outputs": []
    },
    {
      "cell_type": "code",
      "metadata": {
        "colab": {
          "base_uri": "https://localhost:8080/"
        },
        "id": "E2Tqhe0JxuU1",
        "outputId": "0f82950b-a53a-4536-c4ea-c232d2c9037f"
      },
      "source": [
        "metodoNewton((8 * x**2) + (6 * y**2) + (4 * (x -1) * (y-2)), [0.5, 1.5], 0.01, 1)"
      ],
      "execution_count": null,
      "outputs": [
        {
          "output_type": "stream",
          "name": "stdout",
          "text": [
            "[0.5, 1.5]\n",
            "17.0880074906351\n",
            "1\n",
            "[0.454545454545455, 0.181818181818182]\n",
            "1.77635683940025e-15\n",
            "2\n",
            "[0.454545454545455, 0.181818181818182]\n",
            "2.22044604925031e-16\n",
            "3\n",
            "[0.454545454545455, 0.181818181818182]\n",
            "2.22044604925031e-16\n",
            "4\n",
            "[0.454545454545455, 0.181818181818182]\n",
            "2.22044604925031e-16\n",
            "5\n",
            "[0.454545454545455, 0.181818181818182]\n",
            "2.22044604925031e-16\n",
            "6\n",
            "[0.454545454545455, 0.181818181818182]\n",
            "2.22044604925031e-16\n",
            "7\n",
            "[0.454545454545455, 0.181818181818182]\n",
            "2.22044604925031e-16\n",
            "8\n",
            "[0.454545454545455, 0.181818181818182]\n",
            "2.22044604925031e-16\n",
            "9\n",
            "[0.454545454545455, 0.181818181818182]\n",
            "2.22044604925031e-16\n",
            "10\n"
          ]
        }
      ]
    },
    {
      "cell_type": "code",
      "metadata": {
        "id": "vSqTsy-TMvkY"
      },
      "source": [],
      "execution_count": null,
      "outputs": []
    },
    {
      "cell_type": "markdown",
      "metadata": {
        "id": "Jh9lryN_QJ41"
      },
      "source": [
        "# Punto 2"
      ]
    },
    {
      "cell_type": "markdown",
      "metadata": {
        "id": "Yh-ZuEVKQOsa"
      },
      "source": [
        "Puntos criticos"
      ]
    },
    {
      "cell_type": "code",
      "metadata": {
        "id": "zi5ZCHITCdSI"
      },
      "source": [
        "#Punto2\n",
        "def puntosCriticos(f):\n",
        "\n",
        "      #Condicion de primer orden\n",
        "      x1 = diff(f, x)\n",
        "      y1 = diff(f, y)\n",
        "      \n",
        "      #Condicion de segundo orden\n",
        "      x11 = diff(x1, x)\n",
        "      x12 = diff(x1, y)\n",
        "      y21 = diff(y1, x)\n",
        "      y22 = diff(y1, y)\n",
        "\n",
        "      puntoC = solve([x1, y1], (x,y))\n",
        "      value = lambda a : a.subs(x, puntoC[x]).subs(y,puntoC[y])\n",
        "      hessian = Matrix([[value(x11), value(x12)],[value(y21), value(y22)]])\n",
        "      jacobian = hessian.det()\n",
        "      return puntoC, jacobian, hessian\n",
        "      \n",
        "\n"
      ],
      "execution_count": null,
      "outputs": []
    },
    {
      "cell_type": "code",
      "metadata": {
        "colab": {
          "base_uri": "https://localhost:8080/"
        },
        "id": "FBR-O1jiC2Nr",
        "outputId": "f06424d7-60d2-46de-a43b-a49207994a94"
      },
      "source": [
        "puntosCriticos((5 * (x ** 2)) + (5 * (y ** 2)) - (x * y) - (11 * x) + (11 * y) + 11)"
      ],
      "execution_count": null,
      "outputs": [
        {
          "output_type": "execute_result",
          "data": {
            "text/plain": [
              "({x: 1, y: -1}, 99, Matrix([\n",
              " [10, -1],\n",
              " [-1, 10]]))"
            ]
          },
          "metadata": {},
          "execution_count": 168
        }
      ]
    },
    {
      "cell_type": "markdown",
      "metadata": {
        "id": "0CgR_zvYQr-L"
      },
      "source": [
        "Metodo del gradiente modificado\n"
      ]
    },
    {
      "cell_type": "code",
      "metadata": {
        "id": "kKclkRf_QwpS"
      },
      "source": [
        "def metodoGradienteModificado(f, pInicial, epsilon, counter):\n",
        "\n",
        "        #Encontrando las primeras derivadas\n",
        "        x1 = diff(f, x)\n",
        "        y1 = diff(f, y)\n",
        "\n",
        "        #Hallando segundas derivadas\n",
        "        x11 = diff(x1, x)\n",
        "        x12 = diff(x1, y)\n",
        "        y21 = diff(y1, x)\n",
        "        y22 = diff(y1, y)\n",
        "\n",
        "        #Define una funcion que reemplaza x y y por los puntos\n",
        "        value = lambda a : a.subs(x,pInicial[0]).subs(y,pInicial[1])\n",
        "        \n",
        "        #Definiendo el gradiente\n",
        "        gradient = Matrix([value(x1), value(y1)])\n",
        "        hessian =  Matrix([[value(x11), value(x12)],[value(y21), value(y22)]])\n",
        "        invHessian = hessian ** -1\n",
        "        \n",
        "        #Utilizando la direccion de Newton\n",
        "        direction = invHessian * gradient\n",
        "\n",
        "        #Encontrando la norma\n",
        "        norm = sqrt(x1**2 + y1**2)\n",
        "\n",
        "        print(pInicial)\n",
        "        print(norm)\n",
        "        print(counter)\n",
        "        \n",
        "        \"\"\"\n",
        "        if norm < epsilon:\n",
        "          return pInicial\n",
        "        \"\"\"\n",
        "\n",
        "        if counter >= 10:\n",
        "          return pInicial\n",
        "\n",
        "        #Encontrando tamano de paso\n",
        "        pInicialAux = [pInicial[0] + (l * direction[0]), pInicial[1] + (l * direction[1]) ]\n",
        "        function = f.subs(x, pInicialAux[0])\n",
        "        function1 = function.subs(y, pInicialAux[1])\n",
        "        derF = diff(function1, l) \n",
        "        lamb = solve(derF, l)\n",
        "\n",
        "        #Definiendo el nuevo punto inicial\n",
        "        pInicial = [pInicial[0] + (lamb[0] * direction[0]), pInicial[1] + (lamb[0] * direction[1]) ]\n",
        "\n",
        "\n",
        "        \n",
        "\n",
        "        metodoGradiente(f, pInicial, epsilon, counter + 1)"
      ],
      "execution_count": null,
      "outputs": []
    }
  ]
}